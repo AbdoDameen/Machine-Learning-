{
 "cells": [
  {
   "cell_type": "code",
   "execution_count": 3,
   "metadata": {},
   "outputs": [
    {
     "name": "stdout",
     "output_type": "stream",
     "text": [
      "done\n"
     ]
    }
   ],
   "source": [
    "import numpy\n",
    "import pandas\n",
    "import matplotlib.pyplot as plt\n",
    "import seaborn as sns\n",
    "from sklearn.model_selection import train_test_split\n",
    "from sklearn.ensemble import RandomForestRegressor\n",
    "from sklearn import metrics\n",
    "print('done')"
   ]
  },
  {
   "cell_type": "code",
   "execution_count": 4,
   "metadata": {},
   "outputs": [],
   "source": [
    "gold_data = pandas.read_csv('gld_price_data.csv')"
   ]
  },
  {
   "cell_type": "code",
   "execution_count": 5,
   "metadata": {},
   "outputs": [
    {
     "data": {
      "text/html": [
       "<div>\n",
       "<style scoped>\n",
       "    .dataframe tbody tr th:only-of-type {\n",
       "        vertical-align: middle;\n",
       "    }\n",
       "\n",
       "    .dataframe tbody tr th {\n",
       "        vertical-align: top;\n",
       "    }\n",
       "\n",
       "    .dataframe thead th {\n",
       "        text-align: right;\n",
       "    }\n",
       "</style>\n",
       "<table border=\"1\" class=\"dataframe\">\n",
       "  <thead>\n",
       "    <tr style=\"text-align: right;\">\n",
       "      <th></th>\n",
       "      <th>Date</th>\n",
       "      <th>SPX</th>\n",
       "      <th>GLD</th>\n",
       "      <th>USO</th>\n",
       "      <th>SLV</th>\n",
       "      <th>EUR/USD</th>\n",
       "    </tr>\n",
       "  </thead>\n",
       "  <tbody>\n",
       "    <tr>\n",
       "      <th>0</th>\n",
       "      <td>1/2/2008</td>\n",
       "      <td>1447.160034</td>\n",
       "      <td>84.860001</td>\n",
       "      <td>78.470001</td>\n",
       "      <td>15.180</td>\n",
       "      <td>1.471692</td>\n",
       "    </tr>\n",
       "    <tr>\n",
       "      <th>1</th>\n",
       "      <td>1/3/2008</td>\n",
       "      <td>1447.160034</td>\n",
       "      <td>85.570000</td>\n",
       "      <td>78.370003</td>\n",
       "      <td>15.285</td>\n",
       "      <td>1.474491</td>\n",
       "    </tr>\n",
       "    <tr>\n",
       "      <th>2</th>\n",
       "      <td>1/4/2008</td>\n",
       "      <td>1411.630005</td>\n",
       "      <td>85.129997</td>\n",
       "      <td>77.309998</td>\n",
       "      <td>15.167</td>\n",
       "      <td>1.475492</td>\n",
       "    </tr>\n",
       "    <tr>\n",
       "      <th>3</th>\n",
       "      <td>1/7/2008</td>\n",
       "      <td>1416.180054</td>\n",
       "      <td>84.769997</td>\n",
       "      <td>75.500000</td>\n",
       "      <td>15.053</td>\n",
       "      <td>1.468299</td>\n",
       "    </tr>\n",
       "    <tr>\n",
       "      <th>4</th>\n",
       "      <td>1/8/2008</td>\n",
       "      <td>1390.189941</td>\n",
       "      <td>86.779999</td>\n",
       "      <td>76.059998</td>\n",
       "      <td>15.590</td>\n",
       "      <td>1.557099</td>\n",
       "    </tr>\n",
       "  </tbody>\n",
       "</table>\n",
       "</div>"
      ],
      "text/plain": [
       "       Date          SPX        GLD        USO     SLV   EUR/USD\n",
       "0  1/2/2008  1447.160034  84.860001  78.470001  15.180  1.471692\n",
       "1  1/3/2008  1447.160034  85.570000  78.370003  15.285  1.474491\n",
       "2  1/4/2008  1411.630005  85.129997  77.309998  15.167  1.475492\n",
       "3  1/7/2008  1416.180054  84.769997  75.500000  15.053  1.468299\n",
       "4  1/8/2008  1390.189941  86.779999  76.059998  15.590  1.557099"
      ]
     },
     "execution_count": 5,
     "metadata": {},
     "output_type": "execute_result"
    }
   ],
   "source": [
    "gold_data.head()"
   ]
  },
  {
   "cell_type": "code",
   "execution_count": 6,
   "metadata": {},
   "outputs": [
    {
     "data": {
      "text/plain": [
       "(2290, 6)"
      ]
     },
     "execution_count": 6,
     "metadata": {},
     "output_type": "execute_result"
    }
   ],
   "source": [
    "gold_data.shape"
   ]
  },
  {
   "cell_type": "code",
   "execution_count": 7,
   "metadata": {},
   "outputs": [
    {
     "name": "stdout",
     "output_type": "stream",
     "text": [
      "<class 'pandas.core.frame.DataFrame'>\n",
      "RangeIndex: 2290 entries, 0 to 2289\n",
      "Data columns (total 6 columns):\n",
      " #   Column   Non-Null Count  Dtype  \n",
      "---  ------   --------------  -----  \n",
      " 0   Date     2290 non-null   object \n",
      " 1   SPX      2290 non-null   float64\n",
      " 2   GLD      2290 non-null   float64\n",
      " 3   USO      2290 non-null   float64\n",
      " 4   SLV      2290 non-null   float64\n",
      " 5   EUR/USD  2290 non-null   float64\n",
      "dtypes: float64(5), object(1)\n",
      "memory usage: 107.5+ KB\n"
     ]
    }
   ],
   "source": [
    "gold_data.info()"
   ]
  },
  {
   "cell_type": "code",
   "execution_count": 11,
   "metadata": {},
   "outputs": [
    {
     "data": {
      "text/html": [
       "<div>\n",
       "<style scoped>\n",
       "    .dataframe tbody tr th:only-of-type {\n",
       "        vertical-align: middle;\n",
       "    }\n",
       "\n",
       "    .dataframe tbody tr th {\n",
       "        vertical-align: top;\n",
       "    }\n",
       "\n",
       "    .dataframe thead th {\n",
       "        text-align: right;\n",
       "    }\n",
       "</style>\n",
       "<table border=\"1\" class=\"dataframe\">\n",
       "  <thead>\n",
       "    <tr style=\"text-align: right;\">\n",
       "      <th></th>\n",
       "      <th>Date</th>\n",
       "      <th>SPX</th>\n",
       "      <th>GLD</th>\n",
       "      <th>USO</th>\n",
       "      <th>SLV</th>\n",
       "      <th>EUR/USD</th>\n",
       "    </tr>\n",
       "  </thead>\n",
       "  <tbody>\n",
       "    <tr>\n",
       "      <th>count</th>\n",
       "      <td>2290</td>\n",
       "      <td>2290.000000</td>\n",
       "      <td>2290.000000</td>\n",
       "      <td>2290.000000</td>\n",
       "      <td>2290.000000</td>\n",
       "      <td>2290.000000</td>\n",
       "    </tr>\n",
       "    <tr>\n",
       "      <th>unique</th>\n",
       "      <td>2290</td>\n",
       "      <td>NaN</td>\n",
       "      <td>NaN</td>\n",
       "      <td>NaN</td>\n",
       "      <td>NaN</td>\n",
       "      <td>NaN</td>\n",
       "    </tr>\n",
       "    <tr>\n",
       "      <th>top</th>\n",
       "      <td>2/6/2012</td>\n",
       "      <td>NaN</td>\n",
       "      <td>NaN</td>\n",
       "      <td>NaN</td>\n",
       "      <td>NaN</td>\n",
       "      <td>NaN</td>\n",
       "    </tr>\n",
       "    <tr>\n",
       "      <th>freq</th>\n",
       "      <td>1</td>\n",
       "      <td>NaN</td>\n",
       "      <td>NaN</td>\n",
       "      <td>NaN</td>\n",
       "      <td>NaN</td>\n",
       "      <td>NaN</td>\n",
       "    </tr>\n",
       "    <tr>\n",
       "      <th>mean</th>\n",
       "      <td>NaN</td>\n",
       "      <td>1654.315776</td>\n",
       "      <td>122.732875</td>\n",
       "      <td>31.842221</td>\n",
       "      <td>20.084997</td>\n",
       "      <td>1.283653</td>\n",
       "    </tr>\n",
       "    <tr>\n",
       "      <th>std</th>\n",
       "      <td>NaN</td>\n",
       "      <td>519.111540</td>\n",
       "      <td>23.283346</td>\n",
       "      <td>19.523517</td>\n",
       "      <td>7.092566</td>\n",
       "      <td>0.131547</td>\n",
       "    </tr>\n",
       "    <tr>\n",
       "      <th>min</th>\n",
       "      <td>NaN</td>\n",
       "      <td>676.530029</td>\n",
       "      <td>70.000000</td>\n",
       "      <td>7.960000</td>\n",
       "      <td>8.850000</td>\n",
       "      <td>1.039047</td>\n",
       "    </tr>\n",
       "    <tr>\n",
       "      <th>25%</th>\n",
       "      <td>NaN</td>\n",
       "      <td>1239.874969</td>\n",
       "      <td>109.725000</td>\n",
       "      <td>14.380000</td>\n",
       "      <td>15.570000</td>\n",
       "      <td>1.171313</td>\n",
       "    </tr>\n",
       "    <tr>\n",
       "      <th>50%</th>\n",
       "      <td>NaN</td>\n",
       "      <td>1551.434998</td>\n",
       "      <td>120.580002</td>\n",
       "      <td>33.869999</td>\n",
       "      <td>17.268500</td>\n",
       "      <td>1.303296</td>\n",
       "    </tr>\n",
       "    <tr>\n",
       "      <th>75%</th>\n",
       "      <td>NaN</td>\n",
       "      <td>2073.010070</td>\n",
       "      <td>132.840004</td>\n",
       "      <td>37.827501</td>\n",
       "      <td>22.882499</td>\n",
       "      <td>1.369971</td>\n",
       "    </tr>\n",
       "    <tr>\n",
       "      <th>max</th>\n",
       "      <td>NaN</td>\n",
       "      <td>2872.870117</td>\n",
       "      <td>184.589996</td>\n",
       "      <td>117.480003</td>\n",
       "      <td>47.259998</td>\n",
       "      <td>1.598798</td>\n",
       "    </tr>\n",
       "  </tbody>\n",
       "</table>\n",
       "</div>"
      ],
      "text/plain": [
       "            Date          SPX          GLD          USO          SLV  \\\n",
       "count       2290  2290.000000  2290.000000  2290.000000  2290.000000   \n",
       "unique      2290          NaN          NaN          NaN          NaN   \n",
       "top     2/6/2012          NaN          NaN          NaN          NaN   \n",
       "freq           1          NaN          NaN          NaN          NaN   \n",
       "mean         NaN  1654.315776   122.732875    31.842221    20.084997   \n",
       "std          NaN   519.111540    23.283346    19.523517     7.092566   \n",
       "min          NaN   676.530029    70.000000     7.960000     8.850000   \n",
       "25%          NaN  1239.874969   109.725000    14.380000    15.570000   \n",
       "50%          NaN  1551.434998   120.580002    33.869999    17.268500   \n",
       "75%          NaN  2073.010070   132.840004    37.827501    22.882499   \n",
       "max          NaN  2872.870117   184.589996   117.480003    47.259998   \n",
       "\n",
       "            EUR/USD  \n",
       "count   2290.000000  \n",
       "unique          NaN  \n",
       "top             NaN  \n",
       "freq            NaN  \n",
       "mean       1.283653  \n",
       "std        0.131547  \n",
       "min        1.039047  \n",
       "25%        1.171313  \n",
       "50%        1.303296  \n",
       "75%        1.369971  \n",
       "max        1.598798  "
      ]
     },
     "execution_count": 11,
     "metadata": {},
     "output_type": "execute_result"
    }
   ],
   "source": [
    "gold_data.describe(include='all')"
   ]
  },
  {
   "cell_type": "code",
   "execution_count": 10,
   "metadata": {},
   "outputs": [
    {
     "data": {
      "text/plain": [
       "Date       0\n",
       "SPX        0\n",
       "GLD        0\n",
       "USO        0\n",
       "SLV        0\n",
       "EUR/USD    0\n",
       "dtype: int64"
      ]
     },
     "execution_count": 10,
     "metadata": {},
     "output_type": "execute_result"
    }
   ],
   "source": [
    "gold_data.isnull().sum()"
   ]
  },
  {
   "cell_type": "code",
   "execution_count": 13,
   "metadata": {},
   "outputs": [],
   "source": [
    "corr = gold_data.corr()"
   ]
  },
  {
   "cell_type": "code",
   "execution_count": 17,
   "metadata": {},
   "outputs": [
    {
     "data": {
      "text/plain": [
       "<AxesSubplot:>"
      ]
     },
     "execution_count": 17,
     "metadata": {},
     "output_type": "execute_result"
    },
    {
     "data": {
      "image/png": "[encoded data removed]",
      "text/plain": [
       "<Figure size 864x720 with 2 Axes>"
      ]
     },
     "metadata": {
      "needs_background": "light"
     },
     "output_type": "display_data"
    }
   ],
   "source": [
    "plt.figure(figsize = (12,10))\n",
    "sns.heatmap(corr, cbar=True, square=True,fmt='.1f',annot=True, annot_kws={'size':8},cmap='Blues')"
   ]
  },
  {
   "cell_type": "code",
   "execution_count": 18,
   "metadata": {},
   "outputs": [
    {
     "name": "stdout",
     "output_type": "stream",
     "text": [
      "SPX        0.049345\n",
      "GLD        1.000000\n",
      "USO       -0.186360\n",
      "SLV        0.866632\n",
      "EUR/USD   -0.024375\n",
      "Name: GLD, dtype: float64\n"
     ]
    }
   ],
   "source": [
    "print(corr['GLD'])"
   ]
  },
  {
   "cell_type": "code",
   "execution_count": 21,
   "metadata": {},
   "outputs": [
    {
     "data": {
      "text/plain": [
       "<seaborn.axisgrid.FacetGrid at 0x21792e79a30>"
      ]
     },
     "execution_count": 21,
     "metadata": {},
     "output_type": "execute_result"
    },
    {
     "data": {
      "image/png": "[encoded data removed]",
      "text/plain": [
       "<Figure size 360x360 with 1 Axes>"
      ]
     },
     "metadata": {
      "needs_background": "light"
     },
     "output_type": "display_data"
    }
   ],
   "source": [
    "sns.displot(gold_data['GLD'], color='green')"
   ]
  },
  {
   "cell_type": "code",
   "execution_count": 22,
   "metadata": {},
   "outputs": [],
   "source": [
    "X = gold_data.drop(['Date','GLD'], axis=1)\n",
    "Y = gold_data['GLD']"
   ]
  },
  {
   "cell_type": "code",
   "execution_count": 23,
   "metadata": {},
   "outputs": [],
   "source": [
    "X_train, X_test, Y_train, Y_test = train_test_split(X, Y, test_size=0.2, random_state=2)"
   ]
  },
  {
   "cell_type": "code",
   "execution_count": 24,
   "metadata": {},
   "outputs": [],
   "source": [
    "reg = RandomForestRegressor(n_estimators=100)"
   ]
  },
  {
   "cell_type": "code",
   "execution_count": 25,
   "metadata": {},
   "outputs": [
    {
     "data": {
      "text/plain": [
       "RandomForestRegressor()"
      ]
     },
     "execution_count": 25,
     "metadata": {},
     "output_type": "execute_result"
    }
   ],
   "source": [
    "reg.fit(X_train, Y_train)"
   ]
  },
  {
   "cell_type": "code",
   "execution_count": 26,
   "metadata": {},
   "outputs": [
    {
     "data": {
      "text/plain": [
       "array([168.5691987 ,  82.13389986, 115.72600059, 127.5672007 ,\n",
       "       120.76690139, 154.73189757, 150.44449896, 126.08279999,\n",
       "       117.57669876, 126.15430018, 116.63710082, 171.31260117,\n",
       "       141.32369937, 168.0253988 , 115.15360004, 117.61770049,\n",
       "       140.44190231, 170.256901  , 159.80530323, 159.18049964,\n",
       "       154.90380041, 125.31390041, 176.1935    , 157.73990419,\n",
       "       125.21340032,  93.65599973,  78.02879989, 120.9786998 ,\n",
       "       119.09859927, 167.58120037,  88.20230024, 125.20770005,\n",
       "        91.01430069, 117.72450052, 121.04449907, 136.1542013 ,\n",
       "       115.47140122, 114.83380067, 146.94500032, 107.36600098,\n",
       "       104.62320264,  87.36049795, 126.46530046, 117.87419993,\n",
       "       154.54599913, 119.82210012, 108.62030014, 108.30639793,\n",
       "        93.18090043, 127.24419758,  75.13690042, 113.56259915,\n",
       "       121.06069998, 111.23309914, 118.82609874, 120.51279978,\n",
       "       159.20330129, 169.13810089, 146.88299684,  85.73199855,\n",
       "        94.52320043,  86.82969885,  90.36680012, 118.97260042,\n",
       "       126.54710044, 127.50319998, 168.89880042, 122.1476991 ,\n",
       "       117.48299882,  98.68780004, 168.46520131, 143.29679861,\n",
       "       131.80740264, 121.02020237, 121.05219967, 119.77970084,\n",
       "       114.3406017 , 118.37050061, 107.4003009 , 127.9087007 ,\n",
       "       114.03719987, 106.8926    , 116.92100066, 119.50239911,\n",
       "        88.7580006 ,  88.24549897, 147.11700195, 127.3151004 ,\n",
       "       113.53350067, 110.71939833, 108.33919908,  77.28819912,\n",
       "       169.18040234, 114.05189928, 121.786799  , 127.9742022 ,\n",
       "       154.92939775,  91.68939948, 136.60830071, 159.06660314,\n",
       "       125.18580088, 125.51420047, 130.53980142, 114.81460138,\n",
       "       119.79470079,  92.12739976, 110.17309896, 167.02959972,\n",
       "       156.48939974, 114.15749961, 106.60550116,  79.65009969,\n",
       "       113.27340025, 125.80290089, 107.0417995 , 119.51210078,\n",
       "       156.01120372, 159.96659887, 120.17159981, 135.63370282,\n",
       "       101.43650011, 117.44879779, 119.26310054, 112.91020066,\n",
       "       102.77509908, 160.43719756,  99.02560034, 148.34749956,\n",
       "       125.46940123, 169.47719927, 125.91929871, 127.32829762,\n",
       "       127.37850192, 113.74449965, 112.72390051, 123.51179943,\n",
       "       102.02489884,  89.17189978, 124.3260996 , 101.24399922,\n",
       "       107.26269933, 113.26000108, 117.44020036,  99.10999918,\n",
       "       121.98170039, 162.7236991 ,  87.40079869, 106.89369972,\n",
       "       117.40200089, 127.67650137, 124.1675007 ,  80.66109938,\n",
       "       120.26790053, 158.87629795,  88.13909947, 110.1711992 ,\n",
       "       118.80139928, 172.1011987 , 102.96909915, 105.19080034,\n",
       "       122.5371003 , 159.14089719,  87.50229852,  93.47770067,\n",
       "       112.93880022, 177.01250053, 114.39709964, 119.29670025,\n",
       "        94.77030073, 125.40340021, 166.1447006 , 114.81490099,\n",
       "       116.7615019 ,  88.29689885, 149.40380191, 120.20579932,\n",
       "        89.38900011, 112.20890001, 117.54420052, 118.61580128,\n",
       "        88.17889938,  94.19799996, 117.16110023, 118.58660176,\n",
       "       120.26970006, 126.88859818, 121.95079996, 150.41810011,\n",
       "       164.64570039, 118.58159997, 120.48050145, 151.75940068,\n",
       "       118.38119963, 172.14239874, 105.49769951, 104.98660108,\n",
       "       149.39320193, 113.61610128, 124.7228012 , 147.14800004,\n",
       "       119.60130094, 115.39040076, 112.59600039, 113.400702  ,\n",
       "       140.55740121, 117.77889802, 102.9167004 , 115.96700096,\n",
       "       103.95280189,  98.96520045, 117.35850072,  90.81309989,\n",
       "        91.44350029, 153.24929955, 102.70679986, 154.29290111,\n",
       "       114.47030144, 138.26770149,  90.05679823, 115.51469921,\n",
       "       114.52489976, 123.03930031, 121.89370029, 165.26850183,\n",
       "        92.98049913, 135.21700141, 121.3453995 , 120.5718008 ,\n",
       "       104.7673001 , 142.58920294, 121.82469943, 116.71240052,\n",
       "       113.49440103, 126.99939768, 122.54769968, 125.83139962,\n",
       "       121.20480068,  86.86229885, 132.86570085, 144.14900163,\n",
       "        92.74479943, 158.6365    , 158.84630224, 126.09339939,\n",
       "       164.28199965, 108.74329959, 110.45190059, 103.74099845,\n",
       "        94.32680067, 127.70350255, 107.22080074, 161.49910012,\n",
       "       121.86240034, 132.14359993, 130.58360162, 161.30800041,\n",
       "        90.16329868, 175.83060184, 127.85770035, 126.75489861,\n",
       "        86.55829921, 124.47069972, 150.71209739,  89.57660037,\n",
       "       107.02699977, 108.91289994,  84.32959909, 135.91650003,\n",
       "       155.13670245, 139.87040381,  73.84230019, 152.9847009 ,\n",
       "       126.14189988, 126.84399969, 127.55909894, 108.5155996 ,\n",
       "       156.10070018, 114.40630094, 116.86730126, 125.43749945,\n",
       "       153.74170082, 121.36120019, 156.39349886,  92.96350048,\n",
       "       125.49320144, 126.22740055,  87.82060042,  92.29889902,\n",
       "       126.34419958, 128.29370281, 113.30700029, 117.43199731,\n",
       "       120.90870002, 127.08919837, 119.61470105, 136.41500126,\n",
       "        93.85609924, 120.03600066, 113.31330105,  94.29869982,\n",
       "       108.87069953,  87.21649929, 108.83289981,  89.64689972,\n",
       "        92.16180037, 131.72790343, 162.45730046,  89.36659978,\n",
       "       119.63540064, 133.3875014 , 123.85909998, 128.26480124,\n",
       "       101.75989842,  88.82489895, 131.27120091, 120.0465002 ,\n",
       "       108.68300006, 168.81580053, 115.16750036,  86.70149911,\n",
       "       118.81470071,  91.04379954, 161.94160011, 116.73570047,\n",
       "       121.43449991, 160.49989759, 120.22629902, 112.77589941,\n",
       "       108.47799895, 126.80220063,  76.14060052, 103.07229986,\n",
       "       127.78270241, 121.8459991 ,  92.6205997 , 131.87640065,\n",
       "       118.40240095, 116.00460008, 154.64780264, 159.62510104,\n",
       "       110.31299922, 154.2805982 , 119.33860075, 160.50080082,\n",
       "       118.79010036, 157.73719947, 115.08239894, 116.33930037,\n",
       "       149.82479905, 114.67870075, 125.67649857, 165.13929899,\n",
       "       117.92890014, 125.17939915, 153.26330339, 153.35740228,\n",
       "       132.28449986, 114.93570035, 121.1293022 , 125.13050073,\n",
       "        89.69410045, 122.97199989, 154.92820149, 111.68990028,\n",
       "       106.73829973, 161.87200139, 118.25199966, 165.56379987,\n",
       "       133.947101  , 114.7700995 , 153.21569986, 168.71509964,\n",
       "       114.20950026, 113.85100133, 158.60969853,  85.33619855,\n",
       "       127.17880046, 127.9068012 , 128.80909925, 124.22400068,\n",
       "       123.9006005 ,  90.4972007 , 153.15130063,  97.12919979,\n",
       "       137.60929995,  89.10999921, 106.7701003 , 114.97530038,\n",
       "       112.62610101, 124.46239915,  91.4022989 , 125.33690131,\n",
       "       162.27699842, 120.02569902, 164.95930124, 126.92399818,\n",
       "       112.3925001 , 127.58619956,  94.89189887,  90.78480006,\n",
       "       102.92259916, 120.83969977,  83.26279958, 126.34669997,\n",
       "       160.64670482, 117.21280092, 118.25679978, 120.09889996,\n",
       "       122.89759962, 119.99200134, 121.56789944, 118.33800046,\n",
       "       107.11430013, 148.38409998, 126.41429853, 115.63240072,\n",
       "        73.97859991, 127.843301  , 154.94000086, 122.81589976,\n",
       "       125.58800036,  88.93930009, 102.78089849, 124.44870034,\n",
       "       120.24350003,  73.19840114, 151.41210038, 121.02110028,\n",
       "       104.63189973,  86.37209782, 115.09989898, 172.24139818,\n",
       "       119.92040021, 159.81339805, 113.15199988, 121.21380037,\n",
       "       118.78290083,  95.86519989, 118.79610035, 125.99210068,\n",
       "       118.60939949,  96.19630087, 153.82450158, 122.02999991,\n",
       "       147.29640069, 159.64370228, 114.04280015, 122.43269949,\n",
       "       150.45349784, 127.25710057, 165.73630066, 135.01790069,\n",
       "       119.9628004 , 167.94199887, 108.65159909, 121.79109844,\n",
       "       138.89550126, 106.78079886])"
      ]
     },
     "execution_count": 26,
     "metadata": {},
     "output_type": "execute_result"
    }
   ],
   "source": [
    "test_data_predic = reg.predict(X_test)\n",
    "test_data_predic"
   ]
  },
  {
   "cell_type": "markdown",
   "metadata": {},
   "source": [
    "# R Squared"
   ]
  },
  {
   "cell_type": "code",
   "execution_count": 27,
   "metadata": {},
   "outputs": [
    {
     "data": {
      "text/plain": [
       "0.9894502528487149"
      ]
     },
     "execution_count": 27,
     "metadata": {},
     "output_type": "execute_result"
    }
   ],
   "source": [
    "errer_score = metrics.r2_score(Y_test, test_data_predic)\n",
    "errer_score"
   ]
  },
  {
   "cell_type": "markdown",
   "metadata": {},
   "source": [
    "## compare in a plot"
   ]
  },
  {
   "cell_type": "code",
   "execution_count": 28,
   "metadata": {},
   "outputs": [],
   "source": [
    "Y_test = list(Y_test)"
   ]
  },
  {
   "cell_type": "code",
   "execution_count": 31,
   "metadata": {},
   "outputs": [
    {
     "data": {
      "image/png": "[encoded data removed]",
      "text/plain": [
       "<Figure size 432x288 with 1 Axes>"
      ]
     },
     "metadata": {
      "needs_background": "light"
     },
     "output_type": "display_data"
    }
   ],
   "source": [
    "plt.plot(Y_test, color='blue', label='Actual')\n",
    "plt.plot(test_data_predic, color='red', label='Perdicted')\n",
    "plt.title(\"Compare\")\n",
    "plt.xlabel('Number of Values')\n",
    "plt.ylabel(\"Gold Prices\")\n",
    "plt.legend()\n",
    "plt.show()"
   ]
  },
  {
   "cell_type": "code",
   "execution_count": null,
   "metadata": {},
   "outputs": [],
   "source": []
  },
  {
   "cell_type": "code",
   "execution_count": null,
   "metadata": {},
   "outputs": [],
   "source": []
  },
  {
   "cell_type": "code",
   "execution_count": null,
   "metadata": {},
   "outputs": [],
   "source": []
  },
  {
   "cell_type": "code",
   "execution_count": null,
   "metadata": {},
   "outputs": [],
   "source": []
  },
  {
   "cell_type": "code",
   "execution_count": null,
   "metadata": {},
   "outputs": [],
   "source": []
  },
  {
   "cell_type": "code",
   "execution_count": null,
   "metadata": {},
   "outputs": [],
   "source": []
  },
  {
   "cell_type": "code",
   "execution_count": null,
   "metadata": {},
   "outputs": [],
   "source": []
  },
  {
   "cell_type": "code",
   "execution_count": null,
   "metadata": {},
   "outputs": [],
   "source": []
  },
  {
   "cell_type": "code",
   "execution_count": null,
   "metadata": {},
   "outputs": [],
   "source": []
  },
  {
   "cell_type": "code",
   "execution_count": null,
   "metadata": {},
   "outputs": [],
   "source": []
  },
  {
   "cell_type": "code",
   "execution_count": null,
   "metadata": {},
   "outputs": [],
   "source": []
  }
 ],
 "metadata": {
  "kernelspec": {
   "display_name": "Python 3",
   "language": "python",
   "name": "python3"
  },
  "language_info": {
   "codemirror_mode": {
    "name": "ipython",
    "version": 3
   },
   "file_extension": ".py",
   "mimetype": "text/x-python",
   "name": "python",
   "nbconvert_exporter": "python",
   "pygments_lexer": "ipython3",
   "version": "3.9.1"
  }
 },
 "nbformat": 4,
 "nbformat_minor": 4
}
